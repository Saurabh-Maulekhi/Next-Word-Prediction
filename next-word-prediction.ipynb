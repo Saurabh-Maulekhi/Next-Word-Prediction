{
 "cells": [
  {
   "cell_type": "markdown",
   "id": "ebd22946",
   "metadata": {
    "papermill": {
     "duration": 0.005054,
     "end_time": "2025-02-10T14:14:34.625726",
     "exception": false,
     "start_time": "2025-02-10T14:14:34.620672",
     "status": "completed"
    },
    "tags": []
   },
   "source": [
    "# Next Word Prediction\n",
    "\n",
    "In this Notebook I have created the model for predicting the next word on the basis of input that the user will give\n",
    "\n",
    "* **My linkedin id** : [saurabh-maulekhi](https://www.linkedin.com/in/saurabh-maulekhi-326584241/)\n",
    "\n",
    "* [**MY Hand written Notes on RNN,LSTM,GRU,BiLSTM,BiGRU**](https://www.linkedin.com/posts/saurabh-maulekhi-326584241_rnn-lstm-gru-brnn-notes-activity-7270759679981428736-DjcA/)\n",
    "\n",
    "* [**Model Web Deployment**](https://huggingface.co/spaces/saurabh091/Next_Word_Prediction)\n",
    "\n",
    "* [**Github Repo**](https://github.com/Saurabh-Maulekhi/Next-Word-Prediction)\n",
    "\n",
    "* [**Get my Next Word Prediction model on Kaggle**](https://www.kaggle.com/models/saurabhmaulekhi/next_word_prediction)"
   ]
  },
  {
   "cell_type": "markdown",
   "id": "85cd8d18",
   "metadata": {
    "papermill": {
     "duration": 0.00509,
     "end_time": "2025-02-10T14:14:34.635258",
     "exception": false,
     "start_time": "2025-02-10T14:14:34.630168",
     "status": "completed"
    },
    "tags": []
   },
   "source": [
    "# Importing Libraries"
   ]
  },
  {
   "cell_type": "code",
   "execution_count": 1,
   "id": "af9b45ed",
   "metadata": {
    "execution": {
     "iopub.execute_input": "2025-02-10T14:14:34.645223Z",
     "iopub.status.busy": "2025-02-10T14:14:34.644839Z",
     "iopub.status.idle": "2025-02-10T14:14:46.949583Z",
     "shell.execute_reply": "2025-02-10T14:14:46.948605Z"
    },
    "papermill": {
     "duration": 12.312175,
     "end_time": "2025-02-10T14:14:46.951620",
     "exception": false,
     "start_time": "2025-02-10T14:14:34.639445",
     "status": "completed"
    },
    "tags": []
   },
   "outputs": [],
   "source": [
    "import tensorflow as tf \n",
    "from tensorflow.keras.preprocessing.text import Tokenizer\n",
    "import numpy as np\n",
    "import pickle\n",
    "import time\n",
    "from tensorflow.keras.models import Sequential\n",
    "from tensorflow.keras.layers import Embedding,GRU, LSTM, Dense, Bidirectional, Dropout"
   ]
  },
  {
   "cell_type": "code",
   "execution_count": 2,
   "id": "3a22df8e",
   "metadata": {
    "execution": {
     "iopub.execute_input": "2025-02-10T14:14:46.961955Z",
     "iopub.status.busy": "2025-02-10T14:14:46.961442Z",
     "iopub.status.idle": "2025-02-10T14:14:47.019199Z",
     "shell.execute_reply": "2025-02-10T14:14:47.018565Z"
    },
    "papermill": {
     "duration": 0.064716,
     "end_time": "2025-02-10T14:14:47.020881",
     "exception": false,
     "start_time": "2025-02-10T14:14:46.956165",
     "status": "completed"
    },
    "tags": []
   },
   "outputs": [],
   "source": [
    "# getting our text file\n",
    "with open('/kaggle/input/next-word-prediction/1661-0.txt') as f:\n",
    "    faqs = f.read()"
   ]
  },
  {
   "cell_type": "markdown",
   "id": "7338e533",
   "metadata": {
    "papermill": {
     "duration": 0.004289,
     "end_time": "2025-02-10T14:14:47.029690",
     "exception": false,
     "start_time": "2025-02-10T14:14:47.025401",
     "status": "completed"
    },
    "tags": []
   },
   "source": [
    "# Converting Text into Vectors"
   ]
  },
  {
   "cell_type": "code",
   "execution_count": 3,
   "id": "96d40851",
   "metadata": {
    "execution": {
     "iopub.execute_input": "2025-02-10T14:14:47.039715Z",
     "iopub.status.busy": "2025-02-10T14:14:47.039115Z",
     "iopub.status.idle": "2025-02-10T14:14:47.042890Z",
     "shell.execute_reply": "2025-02-10T14:14:47.042111Z"
    },
    "papermill": {
     "duration": 0.010467,
     "end_time": "2025-02-10T14:14:47.044418",
     "exception": false,
     "start_time": "2025-02-10T14:14:47.033951",
     "status": "completed"
    },
    "tags": []
   },
   "outputs": [],
   "source": [
    "tokenizer = Tokenizer() # Create a tokenizer"
   ]
  },
  {
   "cell_type": "code",
   "execution_count": 4,
   "id": "12a43fcc",
   "metadata": {
    "execution": {
     "iopub.execute_input": "2025-02-10T14:14:47.053969Z",
     "iopub.status.busy": "2025-02-10T14:14:47.053714Z",
     "iopub.status.idle": "2025-02-10T14:14:47.168258Z",
     "shell.execute_reply": "2025-02-10T14:14:47.167370Z"
    },
    "papermill": {
     "duration": 0.121476,
     "end_time": "2025-02-10T14:14:47.170236",
     "exception": false,
     "start_time": "2025-02-10T14:14:47.048760",
     "status": "completed"
    },
    "tags": []
   },
   "outputs": [],
   "source": [
    "tokenizer.fit_on_texts([faqs])  ## Creates a vocabulary list of all unique words in the sentences"
   ]
  },
  {
   "cell_type": "code",
   "execution_count": 5,
   "id": "7a3c21b0",
   "metadata": {
    "execution": {
     "iopub.execute_input": "2025-02-10T14:14:47.180477Z",
     "iopub.status.busy": "2025-02-10T14:14:47.179999Z",
     "iopub.status.idle": "2025-02-10T14:14:47.190027Z",
     "shell.execute_reply": "2025-02-10T14:14:47.189213Z"
    },
    "papermill": {
     "duration": 0.016934,
     "end_time": "2025-02-10T14:14:47.191699",
     "exception": false,
     "start_time": "2025-02-10T14:14:47.174765",
     "status": "completed"
    },
    "tags": []
   },
   "outputs": [],
   "source": [
    "# Save the tokenizer\n",
    "with open('tokenizer.pickle', 'wb') as handle:\n",
    "    pickle.dump(tokenizer, handle)"
   ]
  },
  {
   "cell_type": "code",
   "execution_count": 6,
   "id": "b44cc981",
   "metadata": {
    "execution": {
     "iopub.execute_input": "2025-02-10T14:14:47.201304Z",
     "iopub.status.busy": "2025-02-10T14:14:47.201057Z",
     "iopub.status.idle": "2025-02-10T14:14:47.205327Z",
     "shell.execute_reply": "2025-02-10T14:14:47.204503Z"
    },
    "papermill": {
     "duration": 0.010863,
     "end_time": "2025-02-10T14:14:47.206919",
     "exception": false,
     "start_time": "2025-02-10T14:14:47.196056",
     "status": "completed"
    },
    "tags": []
   },
   "outputs": [
    {
     "name": "stdout",
     "output_type": "stream",
     "text": [
      "No. of words =  8931\n"
     ]
    }
   ],
   "source": [
    "keys_list = tokenizer.word_index  ## creates a word to index mapping\n",
    "print(\"No. of words = \" , len(keys_list))"
   ]
  },
  {
   "cell_type": "code",
   "execution_count": 7,
   "id": "be26d795",
   "metadata": {
    "execution": {
     "iopub.execute_input": "2025-02-10T14:14:47.216970Z",
     "iopub.status.busy": "2025-02-10T14:14:47.216357Z",
     "iopub.status.idle": "2025-02-10T14:14:47.552120Z",
     "shell.execute_reply": "2025-02-10T14:14:47.551199Z"
    },
    "papermill": {
     "duration": 0.342854,
     "end_time": "2025-02-10T14:14:47.554228",
     "exception": false,
     "start_time": "2025-02-10T14:14:47.211374",
     "status": "completed"
    },
    "tags": []
   },
   "outputs": [],
   "source": [
    "input_sequences = []\n",
    "\n",
    "for sentence in faqs.split('\\n'):\n",
    "    #print(sentence)\n",
    "                        ## converting text sequence into vector\n",
    "#                           | \n",
    "#                           V\n",
    "    tokenized_sentence = tokenizer.texts_to_sequences([sentence])[0]  ## the [0] index is putting all sequences in one list\n",
    "#                                        ↑\n",
    "#  Returns a list of sequences, where each sequence is a list of integers representing the words in the corresponding input text.\n",
    "    \n",
    "#                       runing this iteration for [1, len(tokenized_sentence)]\n",
    "#                           |\n",
    "#                           V\n",
    "    for i in range( 1, len(tokenized_sentence)):\n",
    "        input_sequences.append(tokenized_sentence[:i+1]) ## apppendind tokenized sentences to input_sequences list"
   ]
  },
  {
   "cell_type": "code",
   "execution_count": 8,
   "id": "23d126ef",
   "metadata": {
    "execution": {
     "iopub.execute_input": "2025-02-10T14:14:47.564474Z",
     "iopub.status.busy": "2025-02-10T14:14:47.564200Z",
     "iopub.status.idle": "2025-02-10T14:14:47.575337Z",
     "shell.execute_reply": "2025-02-10T14:14:47.574552Z"
    },
    "papermill": {
     "duration": 0.018017,
     "end_time": "2025-02-10T14:14:47.576929",
     "exception": false,
     "start_time": "2025-02-10T14:14:47.558912",
     "status": "completed"
    },
    "tags": []
   },
   "outputs": [],
   "source": [
    "## length of the biggest line\n",
    "max_len = max(len(x) for x in input_sequences)"
   ]
  },
  {
   "cell_type": "markdown",
   "id": "17e0a0d8",
   "metadata": {
    "papermill": {
     "duration": 0.004278,
     "end_time": "2025-02-10T14:14:47.585665",
     "exception": false,
     "start_time": "2025-02-10T14:14:47.581387",
     "status": "completed"
    },
    "tags": []
   },
   "source": [
    "**`Padding`**:\n",
    "\n",
    "            The process of adding placeholder values to sequences to make them all the same length.\n",
    "\n",
    "             This is often necessary because many machine learning models, especially neural networks, require input data to have consistent dimensions.   "
   ]
  },
  {
   "cell_type": "code",
   "execution_count": 9,
   "id": "7b43160a",
   "metadata": {
    "execution": {
     "iopub.execute_input": "2025-02-10T14:14:47.595610Z",
     "iopub.status.busy": "2025-02-10T14:14:47.595134Z",
     "iopub.status.idle": "2025-02-10T14:14:47.786244Z",
     "shell.execute_reply": "2025-02-10T14:14:47.785583Z"
    },
    "papermill": {
     "duration": 0.198249,
     "end_time": "2025-02-10T14:14:47.788247",
     "exception": false,
     "start_time": "2025-02-10T14:14:47.589998",
     "status": "completed"
    },
    "tags": []
   },
   "outputs": [],
   "source": [
    "from tensorflow.keras.preprocessing.sequence import pad_sequences\n",
    "\n",
    "padded_input_sequences = pad_sequences(input_sequences, ## vector who's vector we need to padd\n",
    "                                       maxlen=max_len,  ## length of sequence's vectors \n",
    "                                       padding='pre'    ## padding from the starting \n",
    "                                      )"
   ]
  },
  {
   "cell_type": "code",
   "execution_count": 10,
   "id": "16bdfee6",
   "metadata": {
    "execution": {
     "iopub.execute_input": "2025-02-10T14:14:47.799134Z",
     "iopub.status.busy": "2025-02-10T14:14:47.798339Z",
     "iopub.status.idle": "2025-02-10T14:14:47.804691Z",
     "shell.execute_reply": "2025-02-10T14:14:47.803870Z"
    },
    "papermill": {
     "duration": 0.014226,
     "end_time": "2025-02-10T14:14:47.807296",
     "exception": false,
     "start_time": "2025-02-10T14:14:47.793070",
     "status": "completed"
    },
    "tags": []
   },
   "outputs": [
    {
     "data": {
      "text/plain": [
       "array([[   0,    0,    0, ...,    0,  145, 4790],\n",
       "       [   0,    0,    0, ...,  145, 4790,    1],\n",
       "       [   0,    0,    0, ..., 4790,    1, 1020],\n",
       "       ...,\n",
       "       [   0,    0,    0, ...,    3,  360,   83],\n",
       "       [   0,    0,    0, ...,  360,   83,  358],\n",
       "       [   0,    0,    0, ...,   83,  358, 1673]], dtype=int32)"
      ]
     },
     "execution_count": 10,
     "metadata": {},
     "output_type": "execute_result"
    }
   ],
   "source": [
    "padded_input_sequences"
   ]
  },
  {
   "cell_type": "code",
   "execution_count": 11,
   "id": "046e1464",
   "metadata": {
    "execution": {
     "iopub.execute_input": "2025-02-10T14:14:47.825760Z",
     "iopub.status.busy": "2025-02-10T14:14:47.825433Z",
     "iopub.status.idle": "2025-02-10T14:14:47.829434Z",
     "shell.execute_reply": "2025-02-10T14:14:47.828757Z"
    },
    "papermill": {
     "duration": 0.011904,
     "end_time": "2025-02-10T14:14:47.831110",
     "exception": false,
     "start_time": "2025-02-10T14:14:47.819206",
     "status": "completed"
    },
    "tags": []
   },
   "outputs": [],
   "source": [
    "## X will contain all elements instead of last one in list\n",
    "X = padded_input_sequences[:,:-1]\n",
    "\n",
    "## y will only contain last element of list\n",
    "y = padded_input_sequences[:,-1]"
   ]
  },
  {
   "cell_type": "code",
   "execution_count": 12,
   "id": "fe535147",
   "metadata": {
    "execution": {
     "iopub.execute_input": "2025-02-10T14:14:47.840728Z",
     "iopub.status.busy": "2025-02-10T14:14:47.840489Z",
     "iopub.status.idle": "2025-02-10T14:14:47.845121Z",
     "shell.execute_reply": "2025-02-10T14:14:47.844366Z"
    },
    "papermill": {
     "duration": 0.011295,
     "end_time": "2025-02-10T14:14:47.846865",
     "exception": false,
     "start_time": "2025-02-10T14:14:47.835570",
     "status": "completed"
    },
    "tags": []
   },
   "outputs": [
    {
     "data": {
      "text/plain": [
       "(101619, 19)"
      ]
     },
     "execution_count": 12,
     "metadata": {},
     "output_type": "execute_result"
    }
   ],
   "source": [
    "X.shape"
   ]
  },
  {
   "cell_type": "code",
   "execution_count": 13,
   "id": "4d7af315",
   "metadata": {
    "execution": {
     "iopub.execute_input": "2025-02-10T14:14:47.856866Z",
     "iopub.status.busy": "2025-02-10T14:14:47.856375Z",
     "iopub.status.idle": "2025-02-10T14:14:47.861027Z",
     "shell.execute_reply": "2025-02-10T14:14:47.860381Z"
    },
    "papermill": {
     "duration": 0.011298,
     "end_time": "2025-02-10T14:14:47.862522",
     "exception": false,
     "start_time": "2025-02-10T14:14:47.851224",
     "status": "completed"
    },
    "tags": []
   },
   "outputs": [
    {
     "data": {
      "text/plain": [
       "(101619,)"
      ]
     },
     "execution_count": 13,
     "metadata": {},
     "output_type": "execute_result"
    }
   ],
   "source": [
    "y.shape"
   ]
  },
  {
   "cell_type": "code",
   "execution_count": 14,
   "id": "376465da",
   "metadata": {
    "execution": {
     "iopub.execute_input": "2025-02-10T14:14:47.872363Z",
     "iopub.status.busy": "2025-02-10T14:14:47.872121Z",
     "iopub.status.idle": "2025-02-10T14:14:47.876240Z",
     "shell.execute_reply": "2025-02-10T14:14:47.875479Z"
    },
    "papermill": {
     "duration": 0.010745,
     "end_time": "2025-02-10T14:14:47.877854",
     "exception": false,
     "start_time": "2025-02-10T14:14:47.867109",
     "status": "completed"
    },
    "tags": []
   },
   "outputs": [
    {
     "name": "stdout",
     "output_type": "stream",
     "text": [
      " Total number of word:  8931\n"
     ]
    }
   ],
   "source": [
    "print(\" Total number of word: \" ,len(tokenizer.word_index))\n",
    "\n",
    "INPUT_LENGTH = len(tokenizer.word_index)+1"
   ]
  },
  {
   "cell_type": "code",
   "execution_count": 15,
   "id": "7ba8615a",
   "metadata": {
    "execution": {
     "iopub.execute_input": "2025-02-10T14:14:47.888253Z",
     "iopub.status.busy": "2025-02-10T14:14:47.887651Z",
     "iopub.status.idle": "2025-02-10T14:14:48.174099Z",
     "shell.execute_reply": "2025-02-10T14:14:48.173148Z"
    },
    "papermill": {
     "duration": 0.293794,
     "end_time": "2025-02-10T14:14:48.176192",
     "exception": false,
     "start_time": "2025-02-10T14:14:47.882398",
     "status": "completed"
    },
    "tags": []
   },
   "outputs": [],
   "source": [
    "from tensorflow.keras.utils import to_categorical\n",
    "y = to_categorical(y,num_classes=INPUT_LENGTH)"
   ]
  },
  {
   "cell_type": "code",
   "execution_count": 16,
   "id": "ab7edffc",
   "metadata": {
    "execution": {
     "iopub.execute_input": "2025-02-10T14:14:48.187066Z",
     "iopub.status.busy": "2025-02-10T14:14:48.186784Z",
     "iopub.status.idle": "2025-02-10T14:14:48.191974Z",
     "shell.execute_reply": "2025-02-10T14:14:48.191231Z"
    },
    "papermill": {
     "duration": 0.012282,
     "end_time": "2025-02-10T14:14:48.193483",
     "exception": false,
     "start_time": "2025-02-10T14:14:48.181201",
     "status": "completed"
    },
    "tags": []
   },
   "outputs": [
    {
     "data": {
      "text/plain": [
       "(101619, 8932)"
      ]
     },
     "execution_count": 16,
     "metadata": {},
     "output_type": "execute_result"
    }
   ],
   "source": [
    "y.shape"
   ]
  },
  {
   "cell_type": "markdown",
   "id": "b728767c",
   "metadata": {
    "papermill": {
     "duration": 0.004478,
     "end_time": "2025-02-10T14:14:48.202697",
     "exception": false,
     "start_time": "2025-02-10T14:14:48.198219",
     "status": "completed"
    },
    "tags": []
   },
   "source": [
    "# Architecture"
   ]
  },
  {
   "cell_type": "code",
   "execution_count": 17,
   "id": "45d5cc72",
   "metadata": {
    "execution": {
     "iopub.execute_input": "2025-02-10T14:14:48.213576Z",
     "iopub.status.busy": "2025-02-10T14:14:48.213198Z",
     "iopub.status.idle": "2025-02-10T14:14:48.996372Z",
     "shell.execute_reply": "2025-02-10T14:14:48.995729Z"
    },
    "papermill": {
     "duration": 0.790996,
     "end_time": "2025-02-10T14:14:48.998268",
     "exception": false,
     "start_time": "2025-02-10T14:14:48.207272",
     "status": "completed"
    },
    "tags": []
   },
   "outputs": [],
   "source": [
    "model = Sequential()\n",
    "model.add(Embedding(INPUT_LENGTH, 100))\n",
    "model.add(Bidirectional(GRU(units=80, return_sequences=True)))\n",
    "model.add(Dropout(0.2))\n",
    "model.add(Bidirectional(GRU(units=80, return_sequences=True)))\n",
    "model.add(Dropout(0.2))\n",
    "model.add(Bidirectional(GRU(units=80)))\n",
    "model.add(Dense(INPUT_LENGTH, activation='softmax'))"
   ]
  },
  {
   "cell_type": "code",
   "execution_count": 18,
   "id": "e9de3534",
   "metadata": {
    "execution": {
     "iopub.execute_input": "2025-02-10T14:14:49.009206Z",
     "iopub.status.busy": "2025-02-10T14:14:49.008935Z",
     "iopub.status.idle": "2025-02-10T14:14:49.026336Z",
     "shell.execute_reply": "2025-02-10T14:14:49.025494Z"
    },
    "papermill": {
     "duration": 0.024618,
     "end_time": "2025-02-10T14:14:49.027935",
     "exception": false,
     "start_time": "2025-02-10T14:14:49.003317",
     "status": "completed"
    },
    "tags": []
   },
   "outputs": [],
   "source": [
    "model.compile(loss='categorical_crossentropy', optimizer='adam',metrics=['accuracy'])"
   ]
  },
  {
   "cell_type": "code",
   "execution_count": 19,
   "id": "913cba76",
   "metadata": {
    "execution": {
     "iopub.execute_input": "2025-02-10T14:14:49.038243Z",
     "iopub.status.busy": "2025-02-10T14:14:49.037992Z",
     "iopub.status.idle": "2025-02-10T14:14:49.053167Z",
     "shell.execute_reply": "2025-02-10T14:14:49.052339Z"
    },
    "papermill": {
     "duration": 0.022294,
     "end_time": "2025-02-10T14:14:49.054868",
     "exception": false,
     "start_time": "2025-02-10T14:14:49.032574",
     "status": "completed"
    },
    "tags": []
   },
   "outputs": [
    {
     "data": {
      "text/html": [
       "<pre style=\"white-space:pre;overflow-x:auto;line-height:normal;font-family:Menlo,'DejaVu Sans Mono',consolas,'Courier New',monospace\"><span style=\"font-weight: bold\">Model: \"sequential\"</span>\n",
       "</pre>\n"
      ],
      "text/plain": [
       "\u001b[1mModel: \"sequential\"\u001b[0m\n"
      ]
     },
     "metadata": {},
     "output_type": "display_data"
    },
    {
     "data": {
      "text/html": [
       "<pre style=\"white-space:pre;overflow-x:auto;line-height:normal;font-family:Menlo,'DejaVu Sans Mono',consolas,'Courier New',monospace\">┏━━━━━━━━━━━━━━━━━━━━━━━━━━━━━━━━━┳━━━━━━━━━━━━━━━━━━━━━━━━┳━━━━━━━━━━━━━━━┓\n",
       "┃<span style=\"font-weight: bold\"> Layer (type)                    </span>┃<span style=\"font-weight: bold\"> Output Shape           </span>┃<span style=\"font-weight: bold\">       Param # </span>┃\n",
       "┡━━━━━━━━━━━━━━━━━━━━━━━━━━━━━━━━━╇━━━━━━━━━━━━━━━━━━━━━━━━╇━━━━━━━━━━━━━━━┩\n",
       "│ embedding (<span style=\"color: #0087ff; text-decoration-color: #0087ff\">Embedding</span>)           │ ?                      │   <span style=\"color: #00af00; text-decoration-color: #00af00\">0</span> (unbuilt) │\n",
       "├─────────────────────────────────┼────────────────────────┼───────────────┤\n",
       "│ bidirectional (<span style=\"color: #0087ff; text-decoration-color: #0087ff\">Bidirectional</span>)   │ ?                      │   <span style=\"color: #00af00; text-decoration-color: #00af00\">0</span> (unbuilt) │\n",
       "├─────────────────────────────────┼────────────────────────┼───────────────┤\n",
       "│ dropout (<span style=\"color: #0087ff; text-decoration-color: #0087ff\">Dropout</span>)               │ ?                      │   <span style=\"color: #00af00; text-decoration-color: #00af00\">0</span> (unbuilt) │\n",
       "├─────────────────────────────────┼────────────────────────┼───────────────┤\n",
       "│ bidirectional_1 (<span style=\"color: #0087ff; text-decoration-color: #0087ff\">Bidirectional</span>) │ ?                      │   <span style=\"color: #00af00; text-decoration-color: #00af00\">0</span> (unbuilt) │\n",
       "├─────────────────────────────────┼────────────────────────┼───────────────┤\n",
       "│ dropout_1 (<span style=\"color: #0087ff; text-decoration-color: #0087ff\">Dropout</span>)             │ ?                      │   <span style=\"color: #00af00; text-decoration-color: #00af00\">0</span> (unbuilt) │\n",
       "├─────────────────────────────────┼────────────────────────┼───────────────┤\n",
       "│ bidirectional_2 (<span style=\"color: #0087ff; text-decoration-color: #0087ff\">Bidirectional</span>) │ ?                      │   <span style=\"color: #00af00; text-decoration-color: #00af00\">0</span> (unbuilt) │\n",
       "├─────────────────────────────────┼────────────────────────┼───────────────┤\n",
       "│ dense (<span style=\"color: #0087ff; text-decoration-color: #0087ff\">Dense</span>)                   │ ?                      │   <span style=\"color: #00af00; text-decoration-color: #00af00\">0</span> (unbuilt) │\n",
       "└─────────────────────────────────┴────────────────────────┴───────────────┘\n",
       "</pre>\n"
      ],
      "text/plain": [
       "┏━━━━━━━━━━━━━━━━━━━━━━━━━━━━━━━━━┳━━━━━━━━━━━━━━━━━━━━━━━━┳━━━━━━━━━━━━━━━┓\n",
       "┃\u001b[1m \u001b[0m\u001b[1mLayer (type)                   \u001b[0m\u001b[1m \u001b[0m┃\u001b[1m \u001b[0m\u001b[1mOutput Shape          \u001b[0m\u001b[1m \u001b[0m┃\u001b[1m \u001b[0m\u001b[1m      Param #\u001b[0m\u001b[1m \u001b[0m┃\n",
       "┡━━━━━━━━━━━━━━━━━━━━━━━━━━━━━━━━━╇━━━━━━━━━━━━━━━━━━━━━━━━╇━━━━━━━━━━━━━━━┩\n",
       "│ embedding (\u001b[38;5;33mEmbedding\u001b[0m)           │ ?                      │   \u001b[38;5;34m0\u001b[0m (unbuilt) │\n",
       "├─────────────────────────────────┼────────────────────────┼───────────────┤\n",
       "│ bidirectional (\u001b[38;5;33mBidirectional\u001b[0m)   │ ?                      │   \u001b[38;5;34m0\u001b[0m (unbuilt) │\n",
       "├─────────────────────────────────┼────────────────────────┼───────────────┤\n",
       "│ dropout (\u001b[38;5;33mDropout\u001b[0m)               │ ?                      │   \u001b[38;5;34m0\u001b[0m (unbuilt) │\n",
       "├─────────────────────────────────┼────────────────────────┼───────────────┤\n",
       "│ bidirectional_1 (\u001b[38;5;33mBidirectional\u001b[0m) │ ?                      │   \u001b[38;5;34m0\u001b[0m (unbuilt) │\n",
       "├─────────────────────────────────┼────────────────────────┼───────────────┤\n",
       "│ dropout_1 (\u001b[38;5;33mDropout\u001b[0m)             │ ?                      │   \u001b[38;5;34m0\u001b[0m (unbuilt) │\n",
       "├─────────────────────────────────┼────────────────────────┼───────────────┤\n",
       "│ bidirectional_2 (\u001b[38;5;33mBidirectional\u001b[0m) │ ?                      │   \u001b[38;5;34m0\u001b[0m (unbuilt) │\n",
       "├─────────────────────────────────┼────────────────────────┼───────────────┤\n",
       "│ dense (\u001b[38;5;33mDense\u001b[0m)                   │ ?                      │   \u001b[38;5;34m0\u001b[0m (unbuilt) │\n",
       "└─────────────────────────────────┴────────────────────────┴───────────────┘\n"
      ]
     },
     "metadata": {},
     "output_type": "display_data"
    },
    {
     "data": {
      "text/html": [
       "<pre style=\"white-space:pre;overflow-x:auto;line-height:normal;font-family:Menlo,'DejaVu Sans Mono',consolas,'Courier New',monospace\"><span style=\"font-weight: bold\"> Total params: </span><span style=\"color: #00af00; text-decoration-color: #00af00\">0</span> (0.00 B)\n",
       "</pre>\n"
      ],
      "text/plain": [
       "\u001b[1m Total params: \u001b[0m\u001b[38;5;34m0\u001b[0m (0.00 B)\n"
      ]
     },
     "metadata": {},
     "output_type": "display_data"
    },
    {
     "data": {
      "text/html": [
       "<pre style=\"white-space:pre;overflow-x:auto;line-height:normal;font-family:Menlo,'DejaVu Sans Mono',consolas,'Courier New',monospace\"><span style=\"font-weight: bold\"> Trainable params: </span><span style=\"color: #00af00; text-decoration-color: #00af00\">0</span> (0.00 B)\n",
       "</pre>\n"
      ],
      "text/plain": [
       "\u001b[1m Trainable params: \u001b[0m\u001b[38;5;34m0\u001b[0m (0.00 B)\n"
      ]
     },
     "metadata": {},
     "output_type": "display_data"
    },
    {
     "data": {
      "text/html": [
       "<pre style=\"white-space:pre;overflow-x:auto;line-height:normal;font-family:Menlo,'DejaVu Sans Mono',consolas,'Courier New',monospace\"><span style=\"font-weight: bold\"> Non-trainable params: </span><span style=\"color: #00af00; text-decoration-color: #00af00\">0</span> (0.00 B)\n",
       "</pre>\n"
      ],
      "text/plain": [
       "\u001b[1m Non-trainable params: \u001b[0m\u001b[38;5;34m0\u001b[0m (0.00 B)\n"
      ]
     },
     "metadata": {},
     "output_type": "display_data"
    }
   ],
   "source": [
    "model.summary()"
   ]
  },
  {
   "cell_type": "markdown",
   "id": "e1a05885",
   "metadata": {
    "papermill": {
     "duration": 0.004856,
     "end_time": "2025-02-10T14:14:49.064833",
     "exception": false,
     "start_time": "2025-02-10T14:14:49.059977",
     "status": "completed"
    },
    "tags": []
   },
   "source": [
    "# Training"
   ]
  },
  {
   "cell_type": "code",
   "execution_count": 20,
   "id": "a8365c35",
   "metadata": {
    "execution": {
     "iopub.execute_input": "2025-02-10T14:14:49.075857Z",
     "iopub.status.busy": "2025-02-10T14:14:49.075605Z",
     "iopub.status.idle": "2025-02-10T16:16:06.274339Z",
     "shell.execute_reply": "2025-02-10T16:16:06.273328Z"
    },
    "papermill": {
     "duration": 7277.206467,
     "end_time": "2025-02-10T16:16:06.276383",
     "exception": false,
     "start_time": "2025-02-10T14:14:49.069916",
     "status": "completed"
    },
    "tags": []
   },
   "outputs": [
    {
     "name": "stdout",
     "output_type": "stream",
     "text": [
      "Epoch 1/135\n",
      "\u001b[1m3176/3176\u001b[0m \u001b[32m━━━━━━━━━━━━━━━━━━━━\u001b[0m\u001b[37m\u001b[0m \u001b[1m60s\u001b[0m 17ms/step - accuracy: 0.0616 - loss: 6.5479\n",
      "Epoch 2/135\n",
      "\u001b[1m3176/3176\u001b[0m \u001b[32m━━━━━━━━━━━━━━━━━━━━\u001b[0m\u001b[37m\u001b[0m \u001b[1m54s\u001b[0m 17ms/step - accuracy: 0.1128 - loss: 5.6000\n",
      "Epoch 3/135\n",
      "\u001b[1m3176/3176\u001b[0m \u001b[32m━━━━━━━━━━━━━━━━━━━━\u001b[0m\u001b[37m\u001b[0m \u001b[1m54s\u001b[0m 17ms/step - accuracy: 0.1328 - loss: 5.2598\n",
      "Epoch 4/135\n",
      "\u001b[1m3176/3176\u001b[0m \u001b[32m━━━━━━━━━━━━━━━━━━━━\u001b[0m\u001b[37m\u001b[0m \u001b[1m54s\u001b[0m 17ms/step - accuracy: 0.1492 - loss: 5.0073\n",
      "Epoch 5/135\n",
      "\u001b[1m3176/3176\u001b[0m \u001b[32m━━━━━━━━━━━━━━━━━━━━\u001b[0m\u001b[37m\u001b[0m \u001b[1m54s\u001b[0m 17ms/step - accuracy: 0.1613 - loss: 4.7873\n",
      "Epoch 6/135\n",
      "\u001b[1m3176/3176\u001b[0m \u001b[32m━━━━━━━━━━━━━━━━━━━━\u001b[0m\u001b[37m\u001b[0m \u001b[1m54s\u001b[0m 17ms/step - accuracy: 0.1721 - loss: 4.5955\n",
      "Epoch 7/135\n",
      "\u001b[1m3176/3176\u001b[0m \u001b[32m━━━━━━━━━━━━━━━━━━━━\u001b[0m\u001b[37m\u001b[0m \u001b[1m54s\u001b[0m 17ms/step - accuracy: 0.1811 - loss: 4.4169\n",
      "Epoch 8/135\n",
      "\u001b[1m3176/3176\u001b[0m \u001b[32m━━━━━━━━━━━━━━━━━━━━\u001b[0m\u001b[37m\u001b[0m \u001b[1m54s\u001b[0m 17ms/step - accuracy: 0.1985 - loss: 4.2214\n",
      "Epoch 9/135\n",
      "\u001b[1m3176/3176\u001b[0m \u001b[32m━━━━━━━━━━━━━━━━━━━━\u001b[0m\u001b[37m\u001b[0m \u001b[1m54s\u001b[0m 17ms/step - accuracy: 0.2082 - loss: 4.0775\n",
      "Epoch 10/135\n",
      "\u001b[1m3176/3176\u001b[0m \u001b[32m━━━━━━━━━━━━━━━━━━━━\u001b[0m\u001b[37m\u001b[0m \u001b[1m54s\u001b[0m 17ms/step - accuracy: 0.2195 - loss: 3.9552\n",
      "Epoch 11/135\n",
      "\u001b[1m3176/3176\u001b[0m \u001b[32m━━━━━━━━━━━━━━━━━━━━\u001b[0m\u001b[37m\u001b[0m \u001b[1m54s\u001b[0m 17ms/step - accuracy: 0.2315 - loss: 3.8276\n",
      "Epoch 12/135\n",
      "\u001b[1m3176/3176\u001b[0m \u001b[32m━━━━━━━━━━━━━━━━━━━━\u001b[0m\u001b[37m\u001b[0m \u001b[1m54s\u001b[0m 17ms/step - accuracy: 0.2416 - loss: 3.7115\n",
      "Epoch 13/135\n",
      "\u001b[1m3176/3176\u001b[0m \u001b[32m━━━━━━━━━━━━━━━━━━━━\u001b[0m\u001b[37m\u001b[0m \u001b[1m54s\u001b[0m 17ms/step - accuracy: 0.2537 - loss: 3.6055\n",
      "Epoch 14/135\n",
      "\u001b[1m3176/3176\u001b[0m \u001b[32m━━━━━━━━━━━━━━━━━━━━\u001b[0m\u001b[37m\u001b[0m \u001b[1m54s\u001b[0m 17ms/step - accuracy: 0.2647 - loss: 3.5064\n",
      "Epoch 15/135\n",
      "\u001b[1m3176/3176\u001b[0m \u001b[32m━━━━━━━━━━━━━━━━━━━━\u001b[0m\u001b[37m\u001b[0m \u001b[1m54s\u001b[0m 17ms/step - accuracy: 0.2762 - loss: 3.4206\n",
      "Epoch 16/135\n",
      "\u001b[1m3176/3176\u001b[0m \u001b[32m━━━━━━━━━━━━━━━━━━━━\u001b[0m\u001b[37m\u001b[0m \u001b[1m54s\u001b[0m 17ms/step - accuracy: 0.2892 - loss: 3.3280\n",
      "Epoch 17/135\n",
      "\u001b[1m3176/3176\u001b[0m \u001b[32m━━━━━━━━━━━━━━━━━━━━\u001b[0m\u001b[37m\u001b[0m \u001b[1m54s\u001b[0m 17ms/step - accuracy: 0.3026 - loss: 3.2500\n",
      "Epoch 18/135\n",
      "\u001b[1m3176/3176\u001b[0m \u001b[32m━━━━━━━━━━━━━━━━━━━━\u001b[0m\u001b[37m\u001b[0m \u001b[1m54s\u001b[0m 17ms/step - accuracy: 0.3063 - loss: 3.1951\n",
      "Epoch 19/135\n",
      "\u001b[1m3176/3176\u001b[0m \u001b[32m━━━━━━━━━━━━━━━━━━━━\u001b[0m\u001b[37m\u001b[0m \u001b[1m54s\u001b[0m 17ms/step - accuracy: 0.3147 - loss: 3.1363\n",
      "Epoch 20/135\n",
      "\u001b[1m3176/3176\u001b[0m \u001b[32m━━━━━━━━━━━━━━━━━━━━\u001b[0m\u001b[37m\u001b[0m \u001b[1m54s\u001b[0m 17ms/step - accuracy: 0.3238 - loss: 3.0783\n",
      "Epoch 21/135\n",
      "\u001b[1m3176/3176\u001b[0m \u001b[32m━━━━━━━━━━━━━━━━━━━━\u001b[0m\u001b[37m\u001b[0m \u001b[1m54s\u001b[0m 17ms/step - accuracy: 0.3332 - loss: 3.0194\n",
      "Epoch 22/135\n",
      "\u001b[1m3176/3176\u001b[0m \u001b[32m━━━━━━━━━━━━━━━━━━━━\u001b[0m\u001b[37m\u001b[0m \u001b[1m54s\u001b[0m 17ms/step - accuracy: 0.3454 - loss: 2.9512\n",
      "Epoch 23/135\n",
      "\u001b[1m3176/3176\u001b[0m \u001b[32m━━━━━━━━━━━━━━━━━━━━\u001b[0m\u001b[37m\u001b[0m \u001b[1m54s\u001b[0m 17ms/step - accuracy: 0.3522 - loss: 2.8969\n",
      "Epoch 24/135\n",
      "\u001b[1m3176/3176\u001b[0m \u001b[32m━━━━━━━━━━━━━━━━━━━━\u001b[0m\u001b[37m\u001b[0m \u001b[1m54s\u001b[0m 17ms/step - accuracy: 0.3596 - loss: 2.8409\n",
      "Epoch 25/135\n",
      "\u001b[1m3176/3176\u001b[0m \u001b[32m━━━━━━━━━━━━━━━━━━━━\u001b[0m\u001b[37m\u001b[0m \u001b[1m54s\u001b[0m 17ms/step - accuracy: 0.3642 - loss: 2.8089\n",
      "Epoch 26/135\n",
      "\u001b[1m3176/3176\u001b[0m \u001b[32m━━━━━━━━━━━━━━━━━━━━\u001b[0m\u001b[37m\u001b[0m \u001b[1m54s\u001b[0m 17ms/step - accuracy: 0.3732 - loss: 2.7624\n",
      "Epoch 27/135\n",
      "\u001b[1m3176/3176\u001b[0m \u001b[32m━━━━━━━━━━━━━━━━━━━━\u001b[0m\u001b[37m\u001b[0m \u001b[1m54s\u001b[0m 17ms/step - accuracy: 0.3805 - loss: 2.7207\n",
      "Epoch 28/135\n",
      "\u001b[1m3176/3176\u001b[0m \u001b[32m━━━━━━━━━━━━━━━━━━━━\u001b[0m\u001b[37m\u001b[0m \u001b[1m54s\u001b[0m 17ms/step - accuracy: 0.3890 - loss: 2.6880\n",
      "Epoch 29/135\n",
      "\u001b[1m3176/3176\u001b[0m \u001b[32m━━━━━━━━━━━━━━━━━━━━\u001b[0m\u001b[37m\u001b[0m \u001b[1m54s\u001b[0m 17ms/step - accuracy: 0.3940 - loss: 2.6456\n",
      "Epoch 30/135\n",
      "\u001b[1m3176/3176\u001b[0m \u001b[32m━━━━━━━━━━━━━━━━━━━━\u001b[0m\u001b[37m\u001b[0m \u001b[1m54s\u001b[0m 17ms/step - accuracy: 0.3984 - loss: 2.6249\n",
      "Epoch 31/135\n",
      "\u001b[1m3176/3176\u001b[0m \u001b[32m━━━━━━━━━━━━━━━━━━━━\u001b[0m\u001b[37m\u001b[0m \u001b[1m54s\u001b[0m 17ms/step - accuracy: 0.4040 - loss: 2.5934\n",
      "Epoch 32/135\n",
      "\u001b[1m3176/3176\u001b[0m \u001b[32m━━━━━━━━━━━━━━━━━━━━\u001b[0m\u001b[37m\u001b[0m \u001b[1m54s\u001b[0m 17ms/step - accuracy: 0.4085 - loss: 2.5564\n",
      "Epoch 33/135\n",
      "\u001b[1m3176/3176\u001b[0m \u001b[32m━━━━━━━━━━━━━━━━━━━━\u001b[0m\u001b[37m\u001b[0m \u001b[1m54s\u001b[0m 17ms/step - accuracy: 0.4172 - loss: 2.5269\n",
      "Epoch 34/135\n",
      "\u001b[1m3176/3176\u001b[0m \u001b[32m━━━━━━━━━━━━━━━━━━━━\u001b[0m\u001b[37m\u001b[0m \u001b[1m54s\u001b[0m 17ms/step - accuracy: 0.4220 - loss: 2.4849\n",
      "Epoch 35/135\n",
      "\u001b[1m3176/3176\u001b[0m \u001b[32m━━━━━━━━━━━━━━━━━━━━\u001b[0m\u001b[37m\u001b[0m \u001b[1m54s\u001b[0m 17ms/step - accuracy: 0.4237 - loss: 2.4710\n",
      "Epoch 36/135\n",
      "\u001b[1m3176/3176\u001b[0m \u001b[32m━━━━━━━━━━━━━━━━━━━━\u001b[0m\u001b[37m\u001b[0m \u001b[1m54s\u001b[0m 17ms/step - accuracy: 0.4336 - loss: 2.4342\n",
      "Epoch 37/135\n",
      "\u001b[1m3176/3176\u001b[0m \u001b[32m━━━━━━━━━━━━━━━━━━━━\u001b[0m\u001b[37m\u001b[0m \u001b[1m54s\u001b[0m 17ms/step - accuracy: 0.4386 - loss: 2.4052\n",
      "Epoch 38/135\n",
      "\u001b[1m3176/3176\u001b[0m \u001b[32m━━━━━━━━━━━━━━━━━━━━\u001b[0m\u001b[37m\u001b[0m \u001b[1m54s\u001b[0m 17ms/step - accuracy: 0.4437 - loss: 2.3733\n",
      "Epoch 39/135\n",
      "\u001b[1m3176/3176\u001b[0m \u001b[32m━━━━━━━━━━━━━━━━━━━━\u001b[0m\u001b[37m\u001b[0m \u001b[1m54s\u001b[0m 17ms/step - accuracy: 0.4418 - loss: 2.3745\n",
      "Epoch 40/135\n",
      "\u001b[1m3176/3176\u001b[0m \u001b[32m━━━━━━━━━━━━━━━━━━━━\u001b[0m\u001b[37m\u001b[0m \u001b[1m54s\u001b[0m 17ms/step - accuracy: 0.4486 - loss: 2.3435\n",
      "Epoch 41/135\n",
      "\u001b[1m3176/3176\u001b[0m \u001b[32m━━━━━━━━━━━━━━━━━━━━\u001b[0m\u001b[37m\u001b[0m \u001b[1m53s\u001b[0m 17ms/step - accuracy: 0.4542 - loss: 2.3168\n",
      "Epoch 42/135\n",
      "\u001b[1m3176/3176\u001b[0m \u001b[32m━━━━━━━━━━━━━━━━━━━━\u001b[0m\u001b[37m\u001b[0m \u001b[1m54s\u001b[0m 17ms/step - accuracy: 0.4568 - loss: 2.2932\n",
      "Epoch 43/135\n",
      "\u001b[1m3176/3176\u001b[0m \u001b[32m━━━━━━━━━━━━━━━━━━━━\u001b[0m\u001b[37m\u001b[0m \u001b[1m54s\u001b[0m 17ms/step - accuracy: 0.4552 - loss: 2.2926\n",
      "Epoch 44/135\n",
      "\u001b[1m3176/3176\u001b[0m \u001b[32m━━━━━━━━━━━━━━━━━━━━\u001b[0m\u001b[37m\u001b[0m \u001b[1m54s\u001b[0m 17ms/step - accuracy: 0.4652 - loss: 2.2621\n",
      "Epoch 45/135\n",
      "\u001b[1m3176/3176\u001b[0m \u001b[32m━━━━━━━━━━━━━━━━━━━━\u001b[0m\u001b[37m\u001b[0m \u001b[1m54s\u001b[0m 17ms/step - accuracy: 0.4688 - loss: 2.2269\n",
      "Epoch 46/135\n",
      "\u001b[1m3176/3176\u001b[0m \u001b[32m━━━━━━━━━━━━━━━━━━━━\u001b[0m\u001b[37m\u001b[0m \u001b[1m54s\u001b[0m 17ms/step - accuracy: 0.4729 - loss: 2.2138\n",
      "Epoch 47/135\n",
      "\u001b[1m3176/3176\u001b[0m \u001b[32m━━━━━━━━━━━━━━━━━━━━\u001b[0m\u001b[37m\u001b[0m \u001b[1m54s\u001b[0m 17ms/step - accuracy: 0.4756 - loss: 2.1957\n",
      "Epoch 48/135\n",
      "\u001b[1m3176/3176\u001b[0m \u001b[32m━━━━━━━━━━━━━━━━━━━━\u001b[0m\u001b[37m\u001b[0m \u001b[1m54s\u001b[0m 17ms/step - accuracy: 0.4794 - loss: 2.1760\n",
      "Epoch 49/135\n",
      "\u001b[1m3176/3176\u001b[0m \u001b[32m━━━━━━━━━━━━━━━━━━━━\u001b[0m\u001b[37m\u001b[0m \u001b[1m54s\u001b[0m 17ms/step - accuracy: 0.4833 - loss: 2.1528\n",
      "Epoch 50/135\n",
      "\u001b[1m3176/3176\u001b[0m \u001b[32m━━━━━━━━━━━━━━━━━━━━\u001b[0m\u001b[37m\u001b[0m \u001b[1m54s\u001b[0m 17ms/step - accuracy: 0.4883 - loss: 2.1341\n",
      "Epoch 51/135\n",
      "\u001b[1m3176/3176\u001b[0m \u001b[32m━━━━━━━━━━━━━━━━━━━━\u001b[0m\u001b[37m\u001b[0m \u001b[1m54s\u001b[0m 17ms/step - accuracy: 0.4903 - loss: 2.1196\n",
      "Epoch 52/135\n",
      "\u001b[1m3176/3176\u001b[0m \u001b[32m━━━━━━━━━━━━━━━━━━━━\u001b[0m\u001b[37m\u001b[0m \u001b[1m54s\u001b[0m 17ms/step - accuracy: 0.4932 - loss: 2.1075\n",
      "Epoch 53/135\n",
      "\u001b[1m3176/3176\u001b[0m \u001b[32m━━━━━━━━━━━━━━━━━━━━\u001b[0m\u001b[37m\u001b[0m \u001b[1m54s\u001b[0m 17ms/step - accuracy: 0.4935 - loss: 2.0962\n",
      "Epoch 54/135\n",
      "\u001b[1m3176/3176\u001b[0m \u001b[32m━━━━━━━━━━━━━━━━━━━━\u001b[0m\u001b[37m\u001b[0m \u001b[1m54s\u001b[0m 17ms/step - accuracy: 0.5001 - loss: 2.0743\n",
      "Epoch 55/135\n",
      "\u001b[1m3176/3176\u001b[0m \u001b[32m━━━━━━━━━━━━━━━━━━━━\u001b[0m\u001b[37m\u001b[0m \u001b[1m54s\u001b[0m 17ms/step - accuracy: 0.5032 - loss: 2.0562\n",
      "Epoch 56/135\n",
      "\u001b[1m3176/3176\u001b[0m \u001b[32m━━━━━━━━━━━━━━━━━━━━\u001b[0m\u001b[37m\u001b[0m \u001b[1m54s\u001b[0m 17ms/step - accuracy: 0.5037 - loss: 2.0468\n",
      "Epoch 57/135\n",
      "\u001b[1m3176/3176\u001b[0m \u001b[32m━━━━━━━━━━━━━━━━━━━━\u001b[0m\u001b[37m\u001b[0m \u001b[1m53s\u001b[0m 17ms/step - accuracy: 0.5106 - loss: 2.0190\n",
      "Epoch 58/135\n",
      "\u001b[1m3176/3176\u001b[0m \u001b[32m━━━━━━━━━━━━━━━━━━━━\u001b[0m\u001b[37m\u001b[0m \u001b[1m54s\u001b[0m 17ms/step - accuracy: 0.5101 - loss: 2.0146\n",
      "Epoch 59/135\n",
      "\u001b[1m3176/3176\u001b[0m \u001b[32m━━━━━━━━━━━━━━━━━━━━\u001b[0m\u001b[37m\u001b[0m \u001b[1m54s\u001b[0m 17ms/step - accuracy: 0.5134 - loss: 2.0028\n",
      "Epoch 60/135\n",
      "\u001b[1m3176/3176\u001b[0m \u001b[32m━━━━━━━━━━━━━━━━━━━━\u001b[0m\u001b[37m\u001b[0m \u001b[1m54s\u001b[0m 17ms/step - accuracy: 0.5147 - loss: 1.9886\n",
      "Epoch 61/135\n",
      "\u001b[1m3176/3176\u001b[0m \u001b[32m━━━━━━━━━━━━━━━━━━━━\u001b[0m\u001b[37m\u001b[0m \u001b[1m54s\u001b[0m 17ms/step - accuracy: 0.5182 - loss: 1.9780\n",
      "Epoch 62/135\n",
      "\u001b[1m3176/3176\u001b[0m \u001b[32m━━━━━━━━━━━━━━━━━━━━\u001b[0m\u001b[37m\u001b[0m \u001b[1m54s\u001b[0m 17ms/step - accuracy: 0.5233 - loss: 1.9600\n",
      "Epoch 63/135\n",
      "\u001b[1m3176/3176\u001b[0m \u001b[32m━━━━━━━━━━━━━━━━━━━━\u001b[0m\u001b[37m\u001b[0m \u001b[1m54s\u001b[0m 17ms/step - accuracy: 0.5260 - loss: 1.9412\n",
      "Epoch 64/135\n",
      "\u001b[1m3176/3176\u001b[0m \u001b[32m━━━━━━━━━━━━━━━━━━━━\u001b[0m\u001b[37m\u001b[0m \u001b[1m54s\u001b[0m 17ms/step - accuracy: 0.5309 - loss: 1.9334\n",
      "Epoch 65/135\n",
      "\u001b[1m3176/3176\u001b[0m \u001b[32m━━━━━━━━━━━━━━━━━━━━\u001b[0m\u001b[37m\u001b[0m \u001b[1m54s\u001b[0m 17ms/step - accuracy: 0.5295 - loss: 1.9164\n",
      "Epoch 66/135\n",
      "\u001b[1m3176/3176\u001b[0m \u001b[32m━━━━━━━━━━━━━━━━━━━━\u001b[0m\u001b[37m\u001b[0m \u001b[1m54s\u001b[0m 17ms/step - accuracy: 0.5309 - loss: 1.9114\n",
      "Epoch 67/135\n",
      "\u001b[1m3176/3176\u001b[0m \u001b[32m━━━━━━━━━━━━━━━━━━━━\u001b[0m\u001b[37m\u001b[0m \u001b[1m54s\u001b[0m 17ms/step - accuracy: 0.5359 - loss: 1.8918\n",
      "Epoch 68/135\n",
      "\u001b[1m3176/3176\u001b[0m \u001b[32m━━━━━━━━━━━━━━━━━━━━\u001b[0m\u001b[37m\u001b[0m \u001b[1m54s\u001b[0m 17ms/step - accuracy: 0.5376 - loss: 1.8891\n",
      "Epoch 69/135\n",
      "\u001b[1m3176/3176\u001b[0m \u001b[32m━━━━━━━━━━━━━━━━━━━━\u001b[0m\u001b[37m\u001b[0m \u001b[1m53s\u001b[0m 17ms/step - accuracy: 0.5403 - loss: 1.8671\n",
      "Epoch 70/135\n",
      "\u001b[1m3176/3176\u001b[0m \u001b[32m━━━━━━━━━━━━━━━━━━━━\u001b[0m\u001b[37m\u001b[0m \u001b[1m54s\u001b[0m 17ms/step - accuracy: 0.5433 - loss: 1.8556\n",
      "Epoch 71/135\n",
      "\u001b[1m3176/3176\u001b[0m \u001b[32m━━━━━━━━━━━━━━━━━━━━\u001b[0m\u001b[37m\u001b[0m \u001b[1m54s\u001b[0m 17ms/step - accuracy: 0.5419 - loss: 1.8486\n",
      "Epoch 72/135\n",
      "\u001b[1m3176/3176\u001b[0m \u001b[32m━━━━━━━━━━━━━━━━━━━━\u001b[0m\u001b[37m\u001b[0m \u001b[1m54s\u001b[0m 17ms/step - accuracy: 0.5460 - loss: 1.8339\n",
      "Epoch 73/135\n",
      "\u001b[1m3176/3176\u001b[0m \u001b[32m━━━━━━━━━━━━━━━━━━━━\u001b[0m\u001b[37m\u001b[0m \u001b[1m53s\u001b[0m 17ms/step - accuracy: 0.5478 - loss: 1.8313\n",
      "Epoch 74/135\n",
      "\u001b[1m3176/3176\u001b[0m \u001b[32m━━━━━━━━━━━━━━━━━━━━\u001b[0m\u001b[37m\u001b[0m \u001b[1m54s\u001b[0m 17ms/step - accuracy: 0.5502 - loss: 1.8187\n",
      "Epoch 75/135\n",
      "\u001b[1m3176/3176\u001b[0m \u001b[32m━━━━━━━━━━━━━━━━━━━━\u001b[0m\u001b[37m\u001b[0m \u001b[1m54s\u001b[0m 17ms/step - accuracy: 0.5506 - loss: 1.8179\n",
      "Epoch 76/135\n",
      "\u001b[1m3176/3176\u001b[0m \u001b[32m━━━━━━━━━━━━━━━━━━━━\u001b[0m\u001b[37m\u001b[0m \u001b[1m54s\u001b[0m 17ms/step - accuracy: 0.5546 - loss: 1.8008\n",
      "Epoch 77/135\n",
      "\u001b[1m3176/3176\u001b[0m \u001b[32m━━━━━━━━━━━━━━━━━━━━\u001b[0m\u001b[37m\u001b[0m \u001b[1m54s\u001b[0m 17ms/step - accuracy: 0.5593 - loss: 1.7807\n",
      "Epoch 78/135\n",
      "\u001b[1m3176/3176\u001b[0m \u001b[32m━━━━━━━━━━━━━━━━━━━━\u001b[0m\u001b[37m\u001b[0m \u001b[1m54s\u001b[0m 17ms/step - accuracy: 0.5566 - loss: 1.7773\n",
      "Epoch 79/135\n",
      "\u001b[1m3176/3176\u001b[0m \u001b[32m━━━━━━━━━━━━━━━━━━━━\u001b[0m\u001b[37m\u001b[0m \u001b[1m54s\u001b[0m 17ms/step - accuracy: 0.5576 - loss: 1.7767\n",
      "Epoch 80/135\n",
      "\u001b[1m3176/3176\u001b[0m \u001b[32m━━━━━━━━━━━━━━━━━━━━\u001b[0m\u001b[37m\u001b[0m \u001b[1m54s\u001b[0m 17ms/step - accuracy: 0.5609 - loss: 1.7605\n",
      "Epoch 81/135\n",
      "\u001b[1m3176/3176\u001b[0m \u001b[32m━━━━━━━━━━━━━━━━━━━━\u001b[0m\u001b[37m\u001b[0m \u001b[1m54s\u001b[0m 17ms/step - accuracy: 0.5672 - loss: 1.7470\n",
      "Epoch 82/135\n",
      "\u001b[1m3176/3176\u001b[0m \u001b[32m━━━━━━━━━━━━━━━━━━━━\u001b[0m\u001b[37m\u001b[0m \u001b[1m54s\u001b[0m 17ms/step - accuracy: 0.5651 - loss: 1.7427\n",
      "Epoch 83/135\n",
      "\u001b[1m3176/3176\u001b[0m \u001b[32m━━━━━━━━━━━━━━━━━━━━\u001b[0m\u001b[37m\u001b[0m \u001b[1m54s\u001b[0m 17ms/step - accuracy: 0.5668 - loss: 1.7269\n",
      "Epoch 84/135\n",
      "\u001b[1m3176/3176\u001b[0m \u001b[32m━━━━━━━━━━━━━━━━━━━━\u001b[0m\u001b[37m\u001b[0m \u001b[1m54s\u001b[0m 17ms/step - accuracy: 0.5709 - loss: 1.7247\n",
      "Epoch 85/135\n",
      "\u001b[1m3176/3176\u001b[0m \u001b[32m━━━━━━━━━━━━━━━━━━━━\u001b[0m\u001b[37m\u001b[0m \u001b[1m54s\u001b[0m 17ms/step - accuracy: 0.5677 - loss: 1.7321\n",
      "Epoch 86/135\n",
      "\u001b[1m3176/3176\u001b[0m \u001b[32m━━━━━━━━━━━━━━━━━━━━\u001b[0m\u001b[37m\u001b[0m \u001b[1m53s\u001b[0m 17ms/step - accuracy: 0.5715 - loss: 1.7102\n",
      "Epoch 87/135\n",
      "\u001b[1m3176/3176\u001b[0m \u001b[32m━━━━━━━━━━━━━━━━━━━━\u001b[0m\u001b[37m\u001b[0m \u001b[1m54s\u001b[0m 17ms/step - accuracy: 0.5763 - loss: 1.6977\n",
      "Epoch 88/135\n",
      "\u001b[1m3176/3176\u001b[0m \u001b[32m━━━━━━━━━━━━━━━━━━━━\u001b[0m\u001b[37m\u001b[0m \u001b[1m54s\u001b[0m 17ms/step - accuracy: 0.5795 - loss: 1.6904\n",
      "Epoch 89/135\n",
      "\u001b[1m3176/3176\u001b[0m \u001b[32m━━━━━━━━━━━━━━━━━━━━\u001b[0m\u001b[37m\u001b[0m \u001b[1m54s\u001b[0m 17ms/step - accuracy: 0.5803 - loss: 1.6824\n",
      "Epoch 90/135\n",
      "\u001b[1m3176/3176\u001b[0m \u001b[32m━━━━━━━━━━━━━━━━━━━━\u001b[0m\u001b[37m\u001b[0m \u001b[1m54s\u001b[0m 17ms/step - accuracy: 0.5796 - loss: 1.6807\n",
      "Epoch 91/135\n",
      "\u001b[1m3176/3176\u001b[0m \u001b[32m━━━━━━━━━━━━━━━━━━━━\u001b[0m\u001b[37m\u001b[0m \u001b[1m54s\u001b[0m 17ms/step - accuracy: 0.5810 - loss: 1.6735\n",
      "Epoch 92/135\n",
      "\u001b[1m3176/3176\u001b[0m \u001b[32m━━━━━━━━━━━━━━━━━━━━\u001b[0m\u001b[37m\u001b[0m \u001b[1m54s\u001b[0m 17ms/step - accuracy: 0.5870 - loss: 1.6527\n",
      "Epoch 93/135\n",
      "\u001b[1m3176/3176\u001b[0m \u001b[32m━━━━━━━━━━━━━━━━━━━━\u001b[0m\u001b[37m\u001b[0m \u001b[1m54s\u001b[0m 17ms/step - accuracy: 0.5867 - loss: 1.6514\n",
      "Epoch 94/135\n",
      "\u001b[1m3176/3176\u001b[0m \u001b[32m━━━━━━━━━━━━━━━━━━━━\u001b[0m\u001b[37m\u001b[0m \u001b[1m54s\u001b[0m 17ms/step - accuracy: 0.5864 - loss: 1.6456\n",
      "Epoch 95/135\n",
      "\u001b[1m3176/3176\u001b[0m \u001b[32m━━━━━━━━━━━━━━━━━━━━\u001b[0m\u001b[37m\u001b[0m \u001b[1m54s\u001b[0m 17ms/step - accuracy: 0.5903 - loss: 1.6291\n",
      "Epoch 96/135\n",
      "\u001b[1m3176/3176\u001b[0m \u001b[32m━━━━━━━━━━━━━━━━━━━━\u001b[0m\u001b[37m\u001b[0m \u001b[1m54s\u001b[0m 17ms/step - accuracy: 0.5921 - loss: 1.6238\n",
      "Epoch 97/135\n",
      "\u001b[1m3176/3176\u001b[0m \u001b[32m━━━━━━━━━━━━━━━━━━━━\u001b[0m\u001b[37m\u001b[0m \u001b[1m54s\u001b[0m 17ms/step - accuracy: 0.5924 - loss: 1.6184\n",
      "Epoch 98/135\n",
      "\u001b[1m3176/3176\u001b[0m \u001b[32m━━━━━━━━━━━━━━━━━━━━\u001b[0m\u001b[37m\u001b[0m \u001b[1m54s\u001b[0m 17ms/step - accuracy: 0.5946 - loss: 1.6124\n",
      "Epoch 99/135\n",
      "\u001b[1m3176/3176\u001b[0m \u001b[32m━━━━━━━━━━━━━━━━━━━━\u001b[0m\u001b[37m\u001b[0m \u001b[1m54s\u001b[0m 17ms/step - accuracy: 0.5956 - loss: 1.6021\n",
      "Epoch 100/135\n",
      "\u001b[1m3176/3176\u001b[0m \u001b[32m━━━━━━━━━━━━━━━━━━━━\u001b[0m\u001b[37m\u001b[0m \u001b[1m54s\u001b[0m 17ms/step - accuracy: 0.5963 - loss: 1.6036\n",
      "Epoch 101/135\n",
      "\u001b[1m3176/3176\u001b[0m \u001b[32m━━━━━━━━━━━━━━━━━━━━\u001b[0m\u001b[37m\u001b[0m \u001b[1m54s\u001b[0m 17ms/step - accuracy: 0.5986 - loss: 1.5860\n",
      "Epoch 102/135\n",
      "\u001b[1m3176/3176\u001b[0m \u001b[32m━━━━━━━━━━━━━━━━━━━━\u001b[0m\u001b[37m\u001b[0m \u001b[1m54s\u001b[0m 17ms/step - accuracy: 0.6001 - loss: 1.5779\n",
      "Epoch 103/135\n",
      "\u001b[1m3176/3176\u001b[0m \u001b[32m━━━━━━━━━━━━━━━━━━━━\u001b[0m\u001b[37m\u001b[0m \u001b[1m54s\u001b[0m 17ms/step - accuracy: 0.6025 - loss: 1.5698\n",
      "Epoch 104/135\n",
      "\u001b[1m3176/3176\u001b[0m \u001b[32m━━━━━━━━━━━━━━━━━━━━\u001b[0m\u001b[37m\u001b[0m \u001b[1m54s\u001b[0m 17ms/step - accuracy: 0.6038 - loss: 1.5653\n",
      "Epoch 105/135\n",
      "\u001b[1m3176/3176\u001b[0m \u001b[32m━━━━━━━━━━━━━━━━━━━━\u001b[0m\u001b[37m\u001b[0m \u001b[1m53s\u001b[0m 17ms/step - accuracy: 0.5999 - loss: 1.5678\n",
      "Epoch 106/135\n",
      "\u001b[1m3176/3176\u001b[0m \u001b[32m━━━━━━━━━━━━━━━━━━━━\u001b[0m\u001b[37m\u001b[0m \u001b[1m54s\u001b[0m 17ms/step - accuracy: 0.6062 - loss: 1.5504\n",
      "Epoch 107/135\n",
      "\u001b[1m3176/3176\u001b[0m \u001b[32m━━━━━━━━━━━━━━━━━━━━\u001b[0m\u001b[37m\u001b[0m \u001b[1m54s\u001b[0m 17ms/step - accuracy: 0.6033 - loss: 1.5592\n",
      "Epoch 108/135\n",
      "\u001b[1m3176/3176\u001b[0m \u001b[32m━━━━━━━━━━━━━━━━━━━━\u001b[0m\u001b[37m\u001b[0m \u001b[1m54s\u001b[0m 17ms/step - accuracy: 0.6086 - loss: 1.5444\n",
      "Epoch 109/135\n",
      "\u001b[1m3176/3176\u001b[0m \u001b[32m━━━━━━━━━━━━━━━━━━━━\u001b[0m\u001b[37m\u001b[0m \u001b[1m54s\u001b[0m 17ms/step - accuracy: 0.6077 - loss: 1.5452\n",
      "Epoch 110/135\n",
      "\u001b[1m3176/3176\u001b[0m \u001b[32m━━━━━━━━━━━━━━━━━━━━\u001b[0m\u001b[37m\u001b[0m \u001b[1m54s\u001b[0m 17ms/step - accuracy: 0.6117 - loss: 1.5283\n",
      "Epoch 111/135\n",
      "\u001b[1m3176/3176\u001b[0m \u001b[32m━━━━━━━━━━━━━━━━━━━━\u001b[0m\u001b[37m\u001b[0m \u001b[1m54s\u001b[0m 17ms/step - accuracy: 0.6110 - loss: 1.5293\n",
      "Epoch 112/135\n",
      "\u001b[1m3176/3176\u001b[0m \u001b[32m━━━━━━━━━━━━━━━━━━━━\u001b[0m\u001b[37m\u001b[0m \u001b[1m54s\u001b[0m 17ms/step - accuracy: 0.6149 - loss: 1.5205\n",
      "Epoch 113/135\n",
      "\u001b[1m3176/3176\u001b[0m \u001b[32m━━━━━━━━━━━━━━━━━━━━\u001b[0m\u001b[37m\u001b[0m \u001b[1m54s\u001b[0m 17ms/step - accuracy: 0.6121 - loss: 1.5184\n",
      "Epoch 114/135\n",
      "\u001b[1m3176/3176\u001b[0m \u001b[32m━━━━━━━━━━━━━━━━━━━━\u001b[0m\u001b[37m\u001b[0m \u001b[1m54s\u001b[0m 17ms/step - accuracy: 0.6162 - loss: 1.5096\n",
      "Epoch 115/135\n",
      "\u001b[1m3176/3176\u001b[0m \u001b[32m━━━━━━━━━━━━━━━━━━━━\u001b[0m\u001b[37m\u001b[0m \u001b[1m54s\u001b[0m 17ms/step - accuracy: 0.6156 - loss: 1.5059\n",
      "Epoch 116/135\n",
      "\u001b[1m3176/3176\u001b[0m \u001b[32m━━━━━━━━━━━━━━━━━━━━\u001b[0m\u001b[37m\u001b[0m \u001b[1m54s\u001b[0m 17ms/step - accuracy: 0.6137 - loss: 1.5142\n",
      "Epoch 117/135\n",
      "\u001b[1m3176/3176\u001b[0m \u001b[32m━━━━━━━━━━━━━━━━━━━━\u001b[0m\u001b[37m\u001b[0m \u001b[1m54s\u001b[0m 17ms/step - accuracy: 0.6205 - loss: 1.4911\n",
      "Epoch 118/135\n",
      "\u001b[1m3176/3176\u001b[0m \u001b[32m━━━━━━━━━━━━━━━━━━━━\u001b[0m\u001b[37m\u001b[0m \u001b[1m53s\u001b[0m 17ms/step - accuracy: 0.6219 - loss: 1.4850\n",
      "Epoch 119/135\n",
      "\u001b[1m3176/3176\u001b[0m \u001b[32m━━━━━━━━━━━━━━━━━━━━\u001b[0m\u001b[37m\u001b[0m \u001b[1m54s\u001b[0m 17ms/step - accuracy: 0.6186 - loss: 1.4906\n",
      "Epoch 120/135\n",
      "\u001b[1m3176/3176\u001b[0m \u001b[32m━━━━━━━━━━━━━━━━━━━━\u001b[0m\u001b[37m\u001b[0m \u001b[1m54s\u001b[0m 17ms/step - accuracy: 0.6253 - loss: 1.4680\n",
      "Epoch 121/135\n",
      "\u001b[1m3176/3176\u001b[0m \u001b[32m━━━━━━━━━━━━━━━━━━━━\u001b[0m\u001b[37m\u001b[0m \u001b[1m54s\u001b[0m 17ms/step - accuracy: 0.6231 - loss: 1.4779\n",
      "Epoch 122/135\n",
      "\u001b[1m3176/3176\u001b[0m \u001b[32m━━━━━━━━━━━━━━━━━━━━\u001b[0m\u001b[37m\u001b[0m \u001b[1m54s\u001b[0m 17ms/step - accuracy: 0.6275 - loss: 1.4687\n",
      "Epoch 123/135\n",
      "\u001b[1m3176/3176\u001b[0m \u001b[32m━━━━━━━━━━━━━━━━━━━━\u001b[0m\u001b[37m\u001b[0m \u001b[1m53s\u001b[0m 17ms/step - accuracy: 0.6222 - loss: 1.4688\n",
      "Epoch 124/135\n",
      "\u001b[1m3176/3176\u001b[0m \u001b[32m━━━━━━━━━━━━━━━━━━━━\u001b[0m\u001b[37m\u001b[0m \u001b[1m54s\u001b[0m 17ms/step - accuracy: 0.6251 - loss: 1.4691\n",
      "Epoch 125/135\n",
      "\u001b[1m3176/3176\u001b[0m \u001b[32m━━━━━━━━━━━━━━━━━━━━\u001b[0m\u001b[37m\u001b[0m \u001b[1m54s\u001b[0m 17ms/step - accuracy: 0.6280 - loss: 1.4569\n",
      "Epoch 126/135\n",
      "\u001b[1m3176/3176\u001b[0m \u001b[32m━━━━━━━━━━━━━━━━━━━━\u001b[0m\u001b[37m\u001b[0m \u001b[1m54s\u001b[0m 17ms/step - accuracy: 0.6312 - loss: 1.4394\n",
      "Epoch 127/135\n",
      "\u001b[1m3176/3176\u001b[0m \u001b[32m━━━━━━━━━━━━━━━━━━━━\u001b[0m\u001b[37m\u001b[0m \u001b[1m54s\u001b[0m 17ms/step - accuracy: 0.6327 - loss: 1.4458\n",
      "Epoch 128/135\n",
      "\u001b[1m3176/3176\u001b[0m \u001b[32m━━━━━━━━━━━━━━━━━━━━\u001b[0m\u001b[37m\u001b[0m \u001b[1m53s\u001b[0m 17ms/step - accuracy: 0.6281 - loss: 1.4493\n",
      "Epoch 129/135\n",
      "\u001b[1m3176/3176\u001b[0m \u001b[32m━━━━━━━━━━━━━━━━━━━━\u001b[0m\u001b[37m\u001b[0m \u001b[1m54s\u001b[0m 17ms/step - accuracy: 0.6318 - loss: 1.4366\n",
      "Epoch 130/135\n",
      "\u001b[1m3176/3176\u001b[0m \u001b[32m━━━━━━━━━━━━━━━━━━━━\u001b[0m\u001b[37m\u001b[0m \u001b[1m54s\u001b[0m 17ms/step - accuracy: 0.6306 - loss: 1.4437\n",
      "Epoch 131/135\n",
      "\u001b[1m3176/3176\u001b[0m \u001b[32m━━━━━━━━━━━━━━━━━━━━\u001b[0m\u001b[37m\u001b[0m \u001b[1m54s\u001b[0m 17ms/step - accuracy: 0.6335 - loss: 1.4304\n",
      "Epoch 132/135\n",
      "\u001b[1m3176/3176\u001b[0m \u001b[32m━━━━━━━━━━━━━━━━━━━━\u001b[0m\u001b[37m\u001b[0m \u001b[1m53s\u001b[0m 17ms/step - accuracy: 0.6332 - loss: 1.4263\n",
      "Epoch 133/135\n",
      "\u001b[1m3176/3176\u001b[0m \u001b[32m━━━━━━━━━━━━━━━━━━━━\u001b[0m\u001b[37m\u001b[0m \u001b[1m54s\u001b[0m 17ms/step - accuracy: 0.6359 - loss: 1.4232\n",
      "Epoch 134/135\n",
      "\u001b[1m3176/3176\u001b[0m \u001b[32m━━━━━━━━━━━━━━━━━━━━\u001b[0m\u001b[37m\u001b[0m \u001b[1m54s\u001b[0m 17ms/step - accuracy: 0.6393 - loss: 1.4145\n",
      "Epoch 135/135\n",
      "\u001b[1m3176/3176\u001b[0m \u001b[32m━━━━━━━━━━━━━━━━━━━━\u001b[0m\u001b[37m\u001b[0m \u001b[1m54s\u001b[0m 17ms/step - accuracy: 0.6372 - loss: 1.4127\n"
     ]
    }
   ],
   "source": [
    "N_EPOCHS = 135\n",
    "\n",
    "history = model.fit(X, y, epochs=N_EPOCHS)"
   ]
  },
  {
   "cell_type": "code",
   "execution_count": 21,
   "id": "05f96852",
   "metadata": {
    "execution": {
     "iopub.execute_input": "2025-02-10T16:16:19.393001Z",
     "iopub.status.busy": "2025-02-10T16:16:19.392663Z",
     "iopub.status.idle": "2025-02-10T16:16:19.501767Z",
     "shell.execute_reply": "2025-02-10T16:16:19.501067Z"
    },
    "papermill": {
     "duration": 6.64714,
     "end_time": "2025-02-10T16:16:19.503689",
     "exception": false,
     "start_time": "2025-02-10T16:16:12.856549",
     "status": "completed"
    },
    "tags": []
   },
   "outputs": [],
   "source": [
    "model.save('/kaggle/working/nxt_word_prediction.h5')"
   ]
  },
  {
   "cell_type": "markdown",
   "id": "e1cfa90a",
   "metadata": {
    "papermill": {
     "duration": 6.617353,
     "end_time": "2025-02-10T16:16:32.632494",
     "exception": false,
     "start_time": "2025-02-10T16:16:26.015141",
     "status": "completed"
    },
    "tags": []
   },
   "source": [
    "# Words Prediction / Model Testing"
   ]
  },
  {
   "cell_type": "markdown",
   "id": "07461150",
   "metadata": {
    "papermill": {
     "duration": 6.579523,
     "end_time": "2025-02-10T16:16:45.630158",
     "exception": false,
     "start_time": "2025-02-10T16:16:39.050635",
     "status": "completed"
    },
    "tags": []
   },
   "source": [
    "For Word prediction i have saved model and tokenizer file in the output section "
   ]
  },
  {
   "cell_type": "code",
   "execution_count": 22,
   "id": "0b275589",
   "metadata": {
    "execution": {
     "iopub.execute_input": "2025-02-10T16:16:58.770062Z",
     "iopub.status.busy": "2025-02-10T16:16:58.769730Z",
     "iopub.status.idle": "2025-02-10T16:17:04.759662Z",
     "shell.execute_reply": "2025-02-10T16:17:04.758713Z"
    },
    "papermill": {
     "duration": 12.570597,
     "end_time": "2025-02-10T16:17:04.761653",
     "exception": false,
     "start_time": "2025-02-10T16:16:52.191056",
     "status": "completed"
    },
    "tags": []
   },
   "outputs": [
    {
     "name": "stdout",
     "output_type": "stream",
     "text": [
      "\u001b[1m1/1\u001b[0m \u001b[32m━━━━━━━━━━━━━━━━━━━━\u001b[0m\u001b[37m\u001b[0m \u001b[1m0s\u001b[0m 383ms/step\n",
      "what to\n",
      "\u001b[1m1/1\u001b[0m \u001b[32m━━━━━━━━━━━━━━━━━━━━\u001b[0m\u001b[37m\u001b[0m \u001b[1m0s\u001b[0m 22ms/step\n",
      "what to do\n",
      "\u001b[1m1/1\u001b[0m \u001b[32m━━━━━━━━━━━━━━━━━━━━\u001b[0m\u001b[37m\u001b[0m \u001b[1m0s\u001b[0m 23ms/step\n",
      "what to do i\n",
      "\u001b[1m1/1\u001b[0m \u001b[32m━━━━━━━━━━━━━━━━━━━━\u001b[0m\u001b[37m\u001b[0m \u001b[1m0s\u001b[0m 23ms/step\n",
      "what to do i cannot\n",
      "\u001b[1m1/1\u001b[0m \u001b[32m━━━━━━━━━━━━━━━━━━━━\u001b[0m\u001b[37m\u001b[0m \u001b[1m0s\u001b[0m 22ms/step\n",
      "what to do i cannot submit\n",
      "\u001b[1m1/1\u001b[0m \u001b[32m━━━━━━━━━━━━━━━━━━━━\u001b[0m\u001b[37m\u001b[0m \u001b[1m0s\u001b[0m 22ms/step\n",
      "what to do i cannot submit to\n",
      "\u001b[1m1/1\u001b[0m \u001b[32m━━━━━━━━━━━━━━━━━━━━\u001b[0m\u001b[37m\u001b[0m \u001b[1m0s\u001b[0m 23ms/step\n",
      "what to do i cannot submit to us\n",
      "\u001b[1m1/1\u001b[0m \u001b[32m━━━━━━━━━━━━━━━━━━━━\u001b[0m\u001b[37m\u001b[0m \u001b[1m0s\u001b[0m 22ms/step\n",
      "what to do i cannot submit to us ”\n",
      "\u001b[1m1/1\u001b[0m \u001b[32m━━━━━━━━━━━━━━━━━━━━\u001b[0m\u001b[37m\u001b[0m \u001b[1m0s\u001b[0m 22ms/step\n",
      "what to do i cannot submit to us ” he\n",
      "\u001b[1m1/1\u001b[0m \u001b[32m━━━━━━━━━━━━━━━━━━━━\u001b[0m\u001b[37m\u001b[0m \u001b[1m0s\u001b[0m 24ms/step\n",
      "what to do i cannot submit to us ” he caught\n"
     ]
    }
   ],
   "source": [
    "text = 'what'  ## initial word\n",
    "\n",
    "no_of_words = 10 ## no. of words to predict\n",
    "\n",
    "for i in range(no_of_words):\n",
    "    # tokenize \n",
    "    token_text = tokenizer.texts_to_sequences([text])[0]\n",
    "    # padding\n",
    "    padded_token_text = pad_sequences([token_text], maxlen=56, padding='pre')\n",
    "    # predict \n",
    "    pos = np.argmax(model.predict(padded_token_text))  ## predicting new word\n",
    "    \n",
    "    for word, index in tokenizer.word_index.items():\n",
    "        if index == pos:\n",
    "            text = text + \" \" + word\n",
    "            print(text)\n",
    "            time.sleep(0.5) ## time in seconds to predict new word"
   ]
  }
 ],
 "metadata": {
  "kaggle": {
   "accelerator": "gpu",
   "dataSources": [
    {
     "datasetId": 2389252,
     "sourceId": 4032467,
     "sourceType": "datasetVersion"
    }
   ],
   "dockerImageVersionId": 30805,
   "isGpuEnabled": true,
   "isInternetEnabled": true,
   "language": "python",
   "sourceType": "notebook"
  },
  "kernelspec": {
   "display_name": "Python 3",
   "language": "python",
   "name": "python3"
  },
  "language_info": {
   "codemirror_mode": {
    "name": "ipython",
    "version": 3
   },
   "file_extension": ".py",
   "mimetype": "text/x-python",
   "name": "python",
   "nbconvert_exporter": "python",
   "pygments_lexer": "ipython3",
   "version": "3.10.14"
  },
  "papermill": {
   "default_parameters": {},
   "duration": 7361.639271,
   "end_time": "2025-02-10T16:17:13.773297",
   "environment_variables": {},
   "exception": null,
   "input_path": "__notebook__.ipynb",
   "output_path": "__notebook__.ipynb",
   "parameters": {},
   "start_time": "2025-02-10T14:14:32.134026",
   "version": "2.6.0"
  }
 },
 "nbformat": 4,
 "nbformat_minor": 5
}
